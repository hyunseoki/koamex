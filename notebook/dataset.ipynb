{
 "cells": [
  {
   "cell_type": "code",
   "execution_count": null,
   "metadata": {},
   "outputs": [],
   "source": [
    "import matplotlib.pyplot as plt\n",
    "import xml.etree.ElementTree as ET\n",
    "import cv2\n",
    "import numpy as np\n",
    "import glob\n",
    "import os\n",
    "import sys\n",
    "import random\n",
    "import pandas as pd\n",
    "sys.path.append('../')\n",
    "from src.util import (\n",
    "    KEYPOINT1_NAMES,\n",
    "    KEYPOINT2_NAMES\n",
    ")"
   ]
  },
  {
   "cell_type": "code",
   "execution_count": null,
   "metadata": {},
   "outputs": [],
   "source": [
    "BASE_PATH = sorted(glob.glob('../data/*.*'))\n",
    "# IMAGE_PATH = os.path.join(BASE_PATH, 'images')\n",
    "# XML_FN = os.path.join(BASE_PATH, 'annotations.xml')\n",
    "\n",
    "print(BASE_PATH)\n",
    "# assert os.path.isdir(BASE_PATH), 'wrong path'\n",
    "# assert os.path.isdir(IMAGE_PATH), 'wrong path'\n",
    "# assert os.path.isfile(XML_FN), 'wrong path'"
   ]
  },
  {
   "cell_type": "code",
   "execution_count": null,
   "metadata": {},
   "outputs": [],
   "source": [
    "train_base = [\n",
    "     '../data/task_2_eos 4-2020_10_19_01_02_11-cvat for images 1.1',\n",
    "     '../data/task_3_eos 5-1-2020_10_19_00_29_57-cvat for images 1.1',\n",
    "     '../data/task_5_eos 5-2-2020_10_19_00_31_53-cvat for images 1.1',\n",
    "     '../data/task_6_eos 6-1-2020_10_19_00_37_05-cvat for images 1.1',\n",
    "     '../data/task_7_eos 6-2-2020_10_19_00_38_57-cvat for images 1.1',\n",
    "     '../data/task_8_eos 7-1-2020_10_19_00_41_04-cvat for images 1.1',\n",
    "     '../data/task_9_eos 7-2-2020_10_19_00_43_00-cvat for images 1.1',\n",
    "     '../data/task_10_eos 7-3-2020_10_19_00_44_35-cvat for images 1.1',\n",
    "     '../data/task_11_eos 8-1-2020_10_19_00_46_07-cvat for images 1.1',\n",
    "     '../data/task_12_eos 8-2-2020_10_19_00_48_30-cvat for images 1.1',\n",
    "     '../data/task_13_eos 8-3-2020_10_19_00_49_43-cvat for images 1.1',\n",
    "     '../data/task_14_eos 9-1-2020_10_19_00_51_17-cvat for images 1.1',\n",
    "     '../data/task_15_eos 9-2-2020_10_19_02_01_15-cvat for images 1.1',\n",
    "     '../data/task_16_eos 9-3-2020_10_19_01_01_10-cvat for images 1.1',    \n",
    "     '../data/task_20_eos 12-1-2020_10_19_01_38_42-cvat for images 1.1',\n",
    "]\n",
    "\n",
    "val_base = [\n",
    "     '../data/task_17_eos 10-1-2020_10_19_01_52_10-cvat for images 1.1',\n",
    "     '../data/task_18_eos 10-2-2020_10_19_01_07_45-cvat for images 1.1',    \n",
    "]\n",
    "\n",
    "test_base = [\n",
    "    '../data/task_19_eos 11-1-2020_10_19_01_45_57-cvat for images 1.1',\n",
    "]"
   ]
  },
  {
   "cell_type": "code",
   "execution_count": null,
   "metadata": {},
   "outputs": [],
   "source": [
    "cols = ['phase', 'fn', 'key_points1', 'key_points2']\n",
    "dataset_csv = pd.DataFrame()"
   ]
  },
  {
   "cell_type": "code",
   "execution_count": null,
   "metadata": {},
   "outputs": [],
   "source": [
    "def parsing(base_folders, df, phase):\n",
    "    for base in base_folders:\n",
    "        xml_fn = os.path.join(base, 'annotations.xml')\n",
    "        tree = ET.parse(xml_fn)\n",
    "        root = tree.getroot()\n",
    "\n",
    "        for node in root[2:]:\n",
    "            image_fn = os.path.join(base, 'images', node.attrib['name'])\n",
    "            key_points1 = None\n",
    "            key_points2 = None\n",
    "\n",
    "            for sub_node in node:\n",
    "                if sub_node.attrib['label'] == 'point1':\n",
    "                    key_points1 = sub_node.attrib['points'] ## 15 pairs\n",
    "                elif sub_node.attrib['label'] == 'point2':\n",
    "                    key_points2 = sub_node.attrib['points'] ## 3 pairs\n",
    "                else:\n",
    "                    raise NameError()\n",
    "\n",
    "            df = df.append(\n",
    "                {\n",
    "                    'phase': phase,\n",
    "                    'fn': image_fn,\n",
    "                    'keypoints1': key_points1,\n",
    "                    'keypoints2': key_points2,               \n",
    "                }, ignore_index=True,\n",
    "            )\n",
    "        \n",
    "    return df"
   ]
  },
  {
   "cell_type": "code",
   "execution_count": null,
   "metadata": {},
   "outputs": [],
   "source": [
    "dataset_csv = parsing(\n",
    "    base_folders=train_base,\n",
    "    df=dataset_csv,\n",
    "    phase='train'\n",
    ")\n",
    "\n",
    "dataset_csv = parsing(\n",
    "    base_folders=val_base,\n",
    "    df=dataset_csv,\n",
    "    phase='val'\n",
    ")\n",
    "\n",
    "dataset_csv = parsing(\n",
    "    base_folders=test_base,\n",
    "    df=dataset_csv,\n",
    "    phase='test'\n",
    ")"
   ]
  },
  {
   "cell_type": "code",
   "execution_count": null,
   "metadata": {},
   "outputs": [],
   "source": [
    "dataset_csv.to_csv('../data/data_split.csv', index=False, sep=',')\n",
    "train_case, val_case, test_case = len(dataset_csv[dataset_csv['phase'] == 'train']), len(dataset_csv[dataset_csv['phase'] == 'val']), len(dataset_csv[dataset_csv['phase'] == 'test'])\n",
    "print(f'train_case : {train_case}, val_case : {val_case}, test_case : {test_case}')\n",
    "dataset_csv"
   ]
  }
 ],
 "metadata": {
  "language_info": {
   "name": "python"
  },
  "orig_nbformat": 4
 },
 "nbformat": 4,
 "nbformat_minor": 2
}
